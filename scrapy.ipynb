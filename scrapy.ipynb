{
 "cells": [
  {
   "cell_type": "code",
   "execution_count": 1,
   "metadata": {},
   "outputs": [],
   "source": [
    "import scrapy"
   ]
  },
  {
   "cell_type": "code",
   "execution_count": 4,
   "metadata": {},
   "outputs": [],
   "source": [
    "class TruecarSpider(scrapy.Spider):\n",
    "    \n",
    "    name = 'truecar'\n",
    "    \n",
    "    def start_requests(self):\n",
    "        urls = ['https://www.truecar.com/used-car-for-sale/listings/tesla/model-3/']\n",
    "        for url in urls:\n",
    "            yield scrapy.Request(url=url, callback=self.parse)\n",
    "            \n",
    "    def parse(self, response):\n",
    "        \n",
    "        all_listings = response.xpath('//div[@data-qa=\"Listings\"]')\n",
    "        \n",
    "        for tesla in all_listings:\n",
    "            \n",
    "            make_model = tesla.css('div[data-test=\"vehicleListingCardTitle\"] > div')\n",
    "            year = make_model.css('span.vehicle-card-year::text').get()\n",
    "            model_raw = make_model.css('span.vehicle-header-make-model').get()\n",
    "            model = model_raw[model_raw.find('>') + 1:-7].replace('<!-- -->', '')\n",
    "            \n",
    "            tesla_data = {\n",
    "                'url': 'http://truecar.com' + tesla.css('a::attr(href)').get(),\n",
    "                'model': year + ' ' + model,\n",
    "                'mileage': tesla.css('div[data-test]=\"cardContent\"] > div > div.text-truncate::text').get(),\n",
    "                'price': tesla.css('h4::text').get()\n",
    "            }\n",
    "        \n",
    "        yield tesla_data"
   ]
  },
  {
   "cell_type": "code",
   "execution_count": 5,
   "metadata": {},
   "outputs": [],
   "source": [
    "spider = TruecarSpider()"
   ]
  }
 ],
 "metadata": {
  "kernelspec": {
   "display_name": "Python 3",
   "language": "python",
   "name": "python3"
  },
  "language_info": {
   "codemirror_mode": {
    "name": "ipython",
    "version": 3
   },
   "file_extension": ".py",
   "mimetype": "text/x-python",
   "name": "python",
   "nbconvert_exporter": "python",
   "pygments_lexer": "ipython3",
   "version": "3.7.4"
  }
 },
 "nbformat": 4,
 "nbformat_minor": 2
}
